{
 "cells": [
  {
   "cell_type": "markdown",
   "id": "5de10af3-1b06-4d9b-9c9f-88c14c65d7fe",
   "metadata": {},
   "source": [
    "# RL Tutorial | Q-learning, SARSA and on-Policy MC Control"
   ]
  },
  {
   "cell_type": "code",
   "execution_count": 1,
   "id": "539d007c-1e07-4c02-bba6-811bb124db02",
   "metadata": {
    "tags": []
   },
   "outputs": [],
   "source": [
    "import gymnasium as gym\n",
    "import matplotlib.pyplot as plt\n",
    "import numpy as np"
   ]
  },
  {
   "cell_type": "code",
   "execution_count": 2,
   "id": "e990da45-d2bf-4d7a-bcd4-8966b798536e",
   "metadata": {},
   "outputs": [],
   "source": [
    "env = gym.make(\"CliffWalking-v0\", render_mode=\"rgb_array\")"
   ]
  },
  {
   "cell_type": "code",
   "execution_count": 3,
   "id": "2ca9665f-2307-4b04-9fe1-3e84a3a4c657",
   "metadata": {},
   "outputs": [
    {
     "data": {
      "text/plain": [
       "(36, {'prob': 1})"
      ]
     },
     "execution_count": 3,
     "metadata": {},
     "output_type": "execute_result"
    }
   ],
   "source": [
    "env.reset(seed=1234)"
   ]
  },
  {
   "cell_type": "markdown",
   "id": "6bb06370-e9c3-4ae8-b06d-f015fbd7faf3",
   "metadata": {},
   "source": [
    "## Utility Functions"
   ]
  },
  {
   "cell_type": "markdown",
   "id": "50d41925-025e-4083-afa9-23c4f4e2f072",
   "metadata": {},
   "source": [
    "### $\\epsilon$-greedy policies\n",
    "\n",
    "<img src=\"images/soft_policy.png\" width=\"40%\" />"
   ]
  },
  {
   "cell_type": "code",
   "execution_count": 4,
   "id": "4dcff47e-9cc8-4ad3-be5c-0087c8b46eee",
   "metadata": {
    "tags": []
   },
   "outputs": [],
   "source": [
    "def greedySoftAction(env, q, state, epsilon=0.15):\n",
    "    \"\"\"Returns an epsilon greedy action for given state based on Q-values\"\"\"\n",
    "    return (\n",
    "        env.action_space.sample()\n",
    "        if np.random.uniform() < epsilon\n",
    "        else np.argmax(q[state])\n",
    "    )"
   ]
  },
  {
   "cell_type": "markdown",
   "id": "1bf2ffd8-3c3d-4a23-ab69-e2f2502be736",
   "metadata": {},
   "source": [
    "# Q-learning\n",
    "\n",
    "<img src=\"images/qlearning.png\" width=\"70%\" />"
   ]
  },
  {
   "cell_type": "code",
   "execution_count": 5,
   "id": "c819ea17-ade4-4189-8f44-8758dffe9288",
   "metadata": {
    "tags": []
   },
   "outputs": [],
   "source": [
    "def q_learning(env, n_episodes, alpha=0.1, gamma=0.95, epsilon=0.15):\n",
    "    n_states = env.observation_space.n\n",
    "    n_actions = env.action_space.n\n",
    "    q = np.zeros((n_states, n_actions))  # Initialize Q-values\n",
    "\n",
    "    cumulative_reward = np.zeros(n_episodes)\n",
    "    for i in range(n_episodes):\n",
    "        state, _ = env.reset()\n",
    "        while True:\n",
    "            action = greedySoftAction(env, q, state, epsilon)\n",
    "            next_state, reward, terminated, truncated, _ = env.step(action)\n",
    "\n",
    "            # Update values\n",
    "            q[state][action] = q[state][action] + alpha * (\n",
    "                reward + gamma * np.max(q[next_state]) - q[state][action]\n",
    "            )\n",
    "            state = next_state\n",
    "            cumulative_reward[i] += reward\n",
    "\n",
    "            if terminated or truncated:\n",
    "                break\n",
    "\n",
    "    return np.argmax(q, axis=1), cumulative_reward"
   ]
  },
  {
   "cell_type": "markdown",
   "id": "6afa0775-7b82-412a-ad05-1d4d8721b927",
   "metadata": {},
   "source": [
    "# SARSA\n",
    "\n",
    "<img src=\"images/sarsa.png\" width=\"70%\" />"
   ]
  },
  {
   "cell_type": "code",
   "execution_count": 6,
   "id": "11d223c4-edb2-45f6-999b-17e6711ad399",
   "metadata": {
    "tags": []
   },
   "outputs": [],
   "source": [
    "def SARSA(env, n_episodes, alpha=0.1, gamma=0.95, epsilon=0.15):\n",
    "    n_states = env.observation_space.n\n",
    "    n_actions = env.action_space.n\n",
    "    q = np.zeros((n_states, n_actions))  # Initialize Q-values\n",
    "\n",
    "    cumulative_reward = np.zeros(n_episodes)\n",
    "    for i in range(n_episodes):\n",
    "\n",
    "        state, _ = env.reset()\n",
    "        while True:\n",
    "            action = greedySoftAction(env, q, state, epsilon)\n",
    "            next_state, reward, terminated, truncated, _ = env.step(action)\n",
    "\n",
    "            # Next action (at next_state)\n",
    "            next_action = greedySoftAction(env, q, next_state, epsilon)\n",
    "\n",
    "            # Update values\n",
    "            q[state][action] = q[state][action] + alpha * (\n",
    "                reward + gamma * q[next_state][next_action] - q[state][action]\n",
    "            )\n",
    "            state = next_state\n",
    "            action = next_action\n",
    "            cumulative_reward[i] += reward\n",
    "\n",
    "            if terminated or truncated:\n",
    "                break\n",
    "\n",
    "    return np.argmax(q, axis=1), cumulative_reward"
   ]
  },
  {
   "cell_type": "markdown",
   "id": "085e807a-278f-4ce7-beb9-b55635c00c17",
   "metadata": {},
   "source": [
    "# Monte Carlo Method\n",
    "\n",
    "<img src=\"images/MC.png\" width=\"70%\" />"
   ]
  },
  {
   "cell_type": "code",
   "execution_count": 7,
   "id": "abc4313b-8d16-425d-bcb3-27e3e2c8862f",
   "metadata": {
    "tags": []
   },
   "outputs": [],
   "source": [
    "def onPolicyMC(env, n_episodes, gamma=0.95, epsilon=0.15):\n",
    "    n_states = env.observation_space.n\n",
    "    n_actions = env.action_space.n\n",
    "    q = np.zeros((n_states, n_actions))  # Initialize Q-values\n",
    "\n",
    "    # Store sum and count of Returns for each (state, action) pair\n",
    "    returns_sa = np.zeros((n_states, n_actions, 2))\n",
    "    cumulative_reward = np.zeros(n_episodes)\n",
    "\n",
    "    for i in range(n_episodes):\n",
    "\n",
    "        gen_episode = []  # Episode generated [[s0, a0], r1, ... [s_t-1 , a_t-1], r_T]\n",
    "        state, _ = env.reset()\n",
    "\n",
    "        while True:\n",
    "            action = greedySoftAction(env, q, state, epsilon)\n",
    "            next_state, reward, terminated, truncated, _ = env.step(action)\n",
    "\n",
    "            # Update values\n",
    "            gen_episode.append([state, action])\n",
    "            gen_episode.append(reward)\n",
    "            cumulative_reward[i] += reward\n",
    "\n",
    "            state = next_state\n",
    "\n",
    "            if terminated or truncated:\n",
    "                break\n",
    "\n",
    "        # Find 1st visit returns\n",
    "        g = 0  # return\n",
    "        for _ in range(len(gen_episode) // 2):\n",
    "            reward = gen_episode.pop(-1)\n",
    "            [s, a] = gen_episode.pop(-1)\n",
    "\n",
    "            g = gamma * g + reward\n",
    "\n",
    "            if [s, a] not in gen_episode:\n",
    "                returns_sa[s][a][0] += g\n",
    "                returns_sa[s][a][1] += 1\n",
    "                q[s][a] = returns_sa[s][a][0] / returns_sa[s][a][1]\n",
    "\n",
    "    return np.argmax(q, axis=1), cumulative_reward"
   ]
  },
  {
   "cell_type": "markdown",
   "id": "3ccfd407-a8e8-4c38-b700-49552766bacb",
   "metadata": {},
   "source": [
    "## Rewards over episodes (averaged over 10 runs)"
   ]
  },
  {
   "cell_type": "code",
   "execution_count": 8,
   "id": "f4a4ca06-e3b7-469a-88a5-02a2e9961812",
   "metadata": {},
   "outputs": [],
   "source": [
    "def avg_rewards(agent, n_episodes, N=10):\n",
    "    avg_cum_rewards = []\n",
    "    for _ in range(10):\n",
    "        _, cum_rewards = agent(env, n_episodes)\n",
    "        avg_cum_rewards.append(cum_rewards)\n",
    "\n",
    "    avg_cum_rewards = np.array(avg_cum_rewards)\n",
    "    return avg_cum_rewards.mean(axis=0), avg_cum_rewards.std(axis=0)"
   ]
  },
  {
   "cell_type": "code",
   "execution_count": 9,
   "id": "f09316fb-7233-4f83-8c48-c8c19fbe11a2",
   "metadata": {},
   "outputs": [],
   "source": [
    "n_episodes = 250"
   ]
  },
  {
   "cell_type": "code",
   "execution_count": 10,
   "id": "74cb6080-e086-4eef-aedb-71052847d4e3",
   "metadata": {},
   "outputs": [],
   "source": [
    "ql_mean, ql_std = avg_rewards(q_learning, n_episodes)"
   ]
  },
  {
   "cell_type": "code",
   "execution_count": 11,
   "id": "c132474f-96c2-4a37-9799-2d41afa54aef",
   "metadata": {},
   "outputs": [],
   "source": [
    "sarsa_mean, sarsa_std = avg_rewards(SARSA, n_episodes)"
   ]
  },
  {
   "cell_type": "code",
   "execution_count": 12,
   "id": "3522f276-c365-4352-b0ea-d5decafa35c4",
   "metadata": {},
   "outputs": [],
   "source": [
    "mc_mean, mc_std = avg_rewards(onPolicyMC, n_episodes)"
   ]
  },
  {
   "cell_type": "code",
   "execution_count": 13,
   "id": "444db742-35d3-48ba-938d-c5d55731e24a",
   "metadata": {},
   "outputs": [],
   "source": [
    "def plot_runs(ax, mean, std, label):\n",
    "    x = np.arange(1, n_episodes + 1)\n",
    "    ax.plot(x, mean, label=label)\n",
    "    ax.fill_between(x, mean - 1.96 * std, mean + 1.96 * std, alpha=0.15)"
   ]
  },
  {
   "cell_type": "code",
   "execution_count": 14,
   "id": "cd376abb-8ef8-46b5-8664-d480d87e5501",
   "metadata": {},
   "outputs": [
    {
     "data": {
      "text/plain": [
       "<matplotlib.legend.Legend at 0x7f071e05ad50>"
      ]
     },
     "execution_count": 14,
     "metadata": {},
     "output_type": "execute_result"
    },
    {
     "data": {
      "image/png": "[encoded data removed]",
      "text/plain": [
       "<Figure size 640x480 with 1 Axes>"
      ]
     },
     "metadata": {},
     "output_type": "display_data"
    }
   ],
   "source": [
    "ax = plt.subplot(111)\n",
    "plot_runs(ax, ql_mean, ql_std, \"Q-Learning\")\n",
    "plot_runs(ax, sarsa_mean, sarsa_std, \"SARSA\")\n",
    "plot_runs(ax, mc_mean, mc_std, \"MC-Control\")\n",
    "plt.legend()"
   ]
  }
 ],
 "metadata": {
  "authors": [
   {
    "name": "Shikhar Saxena (2021121010)"
   }
  ],
  "kernelspec": {
   "display_name": "Python 3 (ipykernel)",
   "language": "python",
   "name": "python3"
  },
  "language_info": {
   "codemirror_mode": {
    "name": "ipython",
    "version": 3
   },
   "file_extension": ".py",
   "mimetype": "text/x-python",
   "name": "python",
   "nbconvert_exporter": "python",
   "pygments_lexer": "ipython3",
   "version": "3.11.4"
  },
  "title": "RL: Assignment 1"
 },
 "nbformat": 4,
 "nbformat_minor": 5
}
